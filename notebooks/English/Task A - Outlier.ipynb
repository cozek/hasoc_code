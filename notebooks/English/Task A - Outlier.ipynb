{
  "nbformat": 4,
  "nbformat_minor": 0,
  "metadata": {
    "colab": {
      "name": "Task A - GPT 2.ipynb",
      "provenance": []
    },
    "kernelspec": {
      "name": "python3",
      "display_name": "Python 3"
    },
    "language_info": {
      "codemirror_mode": {
        "name": "ipython",
        "version": 3
      },
      "file_extension": ".py",
      "mimetype": "text/x-python",
      "name": "python",
      "nbconvert_exporter": "python",
      "pygments_lexer": "ipython3",
      "version": "3.7.0"
    },
    "widgets": {
      "application/vnd.jupyter.widget-state+json": {
        "c5d84f5923414aaab16747c1a36734a8": {
          "model_module": "@jupyter-widgets/controls",
          "model_name": "HBoxModel",
          "state": {
            "_view_name": "HBoxView",
            "_dom_classes": [],
            "_model_name": "HBoxModel",
            "_view_module": "@jupyter-widgets/controls",
            "_model_module_version": "1.5.0",
            "_view_count": null,
            "_view_module_version": "1.5.0",
            "box_style": "",
            "layout": "IPY_MODEL_c37d706f713a4420b66b48a59f5acfcd",
            "_model_module": "@jupyter-widgets/controls",
            "children": [
              "IPY_MODEL_fedfacc52a734893aabd2ab0f8bfab5f",
              "IPY_MODEL_72e81e5d8fd24e7a83d536b4c1944e16"
            ]
          }
        },
        "c37d706f713a4420b66b48a59f5acfcd": {
          "model_module": "@jupyter-widgets/base",
          "model_name": "LayoutModel",
          "state": {
            "_view_name": "LayoutView",
            "grid_template_rows": null,
            "right": null,
            "justify_content": null,
            "_view_module": "@jupyter-widgets/base",
            "overflow": null,
            "_model_module_version": "1.2.0",
            "_view_count": null,
            "flex_flow": null,
            "width": null,
            "min_width": null,
            "border": null,
            "align_items": null,
            "bottom": null,
            "_model_module": "@jupyter-widgets/base",
            "top": null,
            "grid_column": null,
            "overflow_y": null,
            "overflow_x": null,
            "grid_auto_flow": null,
            "grid_area": null,
            "grid_template_columns": null,
            "flex": null,
            "_model_name": "LayoutModel",
            "justify_items": null,
            "grid_row": null,
            "max_height": null,
            "align_content": null,
            "visibility": null,
            "align_self": null,
            "height": null,
            "min_height": null,
            "padding": null,
            "grid_auto_rows": null,
            "grid_gap": null,
            "max_width": null,
            "order": null,
            "_view_module_version": "1.2.0",
            "grid_template_areas": null,
            "object_position": null,
            "object_fit": null,
            "grid_auto_columns": null,
            "margin": null,
            "display": null,
            "left": null
          }
        },
        "fedfacc52a734893aabd2ab0f8bfab5f": {
          "model_module": "@jupyter-widgets/controls",
          "model_name": "IntProgressModel",
          "state": {
            "_view_name": "ProgressView",
            "style": "IPY_MODEL_a6aaa392dca946a49e4efed060e89944",
            "_dom_classes": [],
            "description": "100%",
            "_model_name": "IntProgressModel",
            "bar_style": "success",
            "max": 50,
            "_view_module": "@jupyter-widgets/controls",
            "_model_module_version": "1.5.0",
            "value": 50,
            "_view_count": null,
            "_view_module_version": "1.5.0",
            "orientation": "horizontal",
            "min": 0,
            "description_tooltip": null,
            "_model_module": "@jupyter-widgets/controls",
            "layout": "IPY_MODEL_b4aaa61108c14fa792a1c209e46e92bc"
          }
        },
        "72e81e5d8fd24e7a83d536b4c1944e16": {
          "model_module": "@jupyter-widgets/controls",
          "model_name": "HTMLModel",
          "state": {
            "_view_name": "HTMLView",
            "style": "IPY_MODEL_89f524ef5b3d4685adf7c4627cfebc99",
            "_dom_classes": [],
            "description": "",
            "_model_name": "HTMLModel",
            "placeholder": "​",
            "_view_module": "@jupyter-widgets/controls",
            "_model_module_version": "1.5.0",
            "value": " 50/50 [00:27&lt;00:00,  1.82it/s]",
            "_view_count": null,
            "_view_module_version": "1.5.0",
            "description_tooltip": null,
            "_model_module": "@jupyter-widgets/controls",
            "layout": "IPY_MODEL_d16fb81c48ea40f4b03e04732df3963c"
          }
        },
        "a6aaa392dca946a49e4efed060e89944": {
          "model_module": "@jupyter-widgets/controls",
          "model_name": "ProgressStyleModel",
          "state": {
            "_view_name": "StyleView",
            "_model_name": "ProgressStyleModel",
            "description_width": "initial",
            "_view_module": "@jupyter-widgets/base",
            "_model_module_version": "1.5.0",
            "_view_count": null,
            "_view_module_version": "1.2.0",
            "bar_color": null,
            "_model_module": "@jupyter-widgets/controls"
          }
        },
        "b4aaa61108c14fa792a1c209e46e92bc": {
          "model_module": "@jupyter-widgets/base",
          "model_name": "LayoutModel",
          "state": {
            "_view_name": "LayoutView",
            "grid_template_rows": null,
            "right": null,
            "justify_content": null,
            "_view_module": "@jupyter-widgets/base",
            "overflow": null,
            "_model_module_version": "1.2.0",
            "_view_count": null,
            "flex_flow": null,
            "width": null,
            "min_width": null,
            "border": null,
            "align_items": null,
            "bottom": null,
            "_model_module": "@jupyter-widgets/base",
            "top": null,
            "grid_column": null,
            "overflow_y": null,
            "overflow_x": null,
            "grid_auto_flow": null,
            "grid_area": null,
            "grid_template_columns": null,
            "flex": null,
            "_model_name": "LayoutModel",
            "justify_items": null,
            "grid_row": null,
            "max_height": null,
            "align_content": null,
            "visibility": null,
            "align_self": null,
            "height": null,
            "min_height": null,
            "padding": null,
            "grid_auto_rows": null,
            "grid_gap": null,
            "max_width": null,
            "order": null,
            "_view_module_version": "1.2.0",
            "grid_template_areas": null,
            "object_position": null,
            "object_fit": null,
            "grid_auto_columns": null,
            "margin": null,
            "display": null,
            "left": null
          }
        },
        "89f524ef5b3d4685adf7c4627cfebc99": {
          "model_module": "@jupyter-widgets/controls",
          "model_name": "DescriptionStyleModel",
          "state": {
            "_view_name": "StyleView",
            "_model_name": "DescriptionStyleModel",
            "description_width": "",
            "_view_module": "@jupyter-widgets/base",
            "_model_module_version": "1.5.0",
            "_view_count": null,
            "_view_module_version": "1.2.0",
            "_model_module": "@jupyter-widgets/controls"
          }
        },
        "d16fb81c48ea40f4b03e04732df3963c": {
          "model_module": "@jupyter-widgets/base",
          "model_name": "LayoutModel",
          "state": {
            "_view_name": "LayoutView",
            "grid_template_rows": null,
            "right": null,
            "justify_content": null,
            "_view_module": "@jupyter-widgets/base",
            "overflow": null,
            "_model_module_version": "1.2.0",
            "_view_count": null,
            "flex_flow": null,
            "width": null,
            "min_width": null,
            "border": null,
            "align_items": null,
            "bottom": null,
            "_model_module": "@jupyter-widgets/base",
            "top": null,
            "grid_column": null,
            "overflow_y": null,
            "overflow_x": null,
            "grid_auto_flow": null,
            "grid_area": null,
            "grid_template_columns": null,
            "flex": null,
            "_model_name": "LayoutModel",
            "justify_items": null,
            "grid_row": null,
            "max_height": null,
            "align_content": null,
            "visibility": null,
            "align_self": null,
            "height": null,
            "min_height": null,
            "padding": null,
            "grid_auto_rows": null,
            "grid_gap": null,
            "max_width": null,
            "order": null,
            "_view_module_version": "1.2.0",
            "grid_template_areas": null,
            "object_position": null,
            "object_fit": null,
            "grid_auto_columns": null,
            "margin": null,
            "display": null,
            "left": null
          }
        }
      }
    }
  },
  "cells": [
    {
      "cell_type": "markdown",
      "metadata": {
        "colab_type": "text",
        "id": "njzRjFbiQYlu"
      },
      "source": [
        "[![Open In Colab](https://colab.research.google.com/assets/colab-badge.svg)](https://colab.research.google.com/github/cozek/hasoc_code/blob/master/notebooks/English/Task%20A%20-%20GPT%202.ipynb)"
      ]
    },
    {
      "cell_type": "markdown",
      "metadata": {
        "colab_type": "text",
        "id": "nF2qyeioUpoh"
      },
      "source": [
        "# If working in colab, clone the repo"
      ]
    },
    {
      "cell_type": "code",
      "metadata": {
        "colab_type": "code",
        "id": "qw7CyHbUQVsr",
        "colab": {}
      },
      "source": [
        "import os\n",
        "import sys\n",
        "\n",
        "try:\n",
        "    __import__('google.colab')\n",
        "    IN_COLAB = True\n",
        "except:\n",
        "    IN_COLAB = False"
      ],
      "execution_count": 0,
      "outputs": []
    },
    {
      "cell_type": "code",
      "metadata": {
        "colab_type": "code",
        "id": "LG5U3wSYZ_yl",
        "colab": {}
      },
      "source": [
        "if IN_COLAB:\n",
        "    os.system('rm -rf /content/hasoc_code/')\n",
        "    os.system('git clone --recurse-submodules https://github.com/cozek/hasoc_code')\n",
        "    sys.path.append('/content/hasoc_code/src')\n",
        "else:\n",
        "    sys.path.append('../../src')"
      ],
      "execution_count": 0,
      "outputs": []
    },
    {
      "cell_type": "markdown",
      "metadata": {
        "colab_type": "text",
        "id": "iemxHSBz7SBb"
      },
      "source": [
        "### Install tranformers"
      ]
    },
    {
      "cell_type": "code",
      "metadata": {
        "colab_type": "code",
        "id": "k-0C7RFRQSDa",
        "colab": {}
      },
      "source": [
        "try:\n",
        "    __import__(transformers)\n",
        "except:\n",
        "    os.system(\"git clone https://github.com/huggingface/transformers\")\n",
        "    os.system(\"pip install ./transformers\")"
      ],
      "execution_count": 0,
      "outputs": []
    },
    {
      "cell_type": "markdown",
      "metadata": {
        "colab_type": "text",
        "id": "uZwwEsY_UuZ6"
      },
      "source": [
        "# Import libraries"
      ]
    },
    {
      "cell_type": "code",
      "metadata": {
        "colab_type": "code",
        "id": "YDW5zDiUaWnI",
        "colab": {}
      },
      "source": [
        "%load_ext autoreload\n",
        "%autoreload 2"
      ],
      "execution_count": 0,
      "outputs": []
    },
    {
      "cell_type": "code",
      "metadata": {
        "colab_type": "code",
        "id": "aE7jfIRqUTtn",
        "colab": {}
      },
      "source": [
        "import collections\n",
        "from typing import Callable\n",
        "import numpy as np\n",
        "import pandas as pd\n",
        "from tqdm import notebook\n",
        "import importlib\n",
        "import pprint\n",
        "import nltk\n",
        "import datetime\n",
        "import os\n",
        "from argparse import Namespace\n",
        "import re\n",
        "from collections import Counter"
      ],
      "execution_count": 0,
      "outputs": []
    },
    {
      "cell_type": "code",
      "metadata": {
        "colab_type": "code",
        "id": "r_rDeBsOUXKi",
        "colab": {}
      },
      "source": [
        "import utils.general as general_utils\n",
        "import utils.data as data_utils\n",
        "import utils.transformer.data as transformer_data_utils\n",
        "import utils.transformer.general as transformer_general_utils\n",
        "general_utils.set_seed_everywhere() #set the seed for reproducibility"
      ],
      "execution_count": 0,
      "outputs": []
    },
    {
      "cell_type": "code",
      "metadata": {
        "colab_type": "code",
        "id": "3UfRWC0qUb-a",
        "colab": {
          "base_uri": "https://localhost:8080/",
          "height": 32
        },
        "outputId": "c216532a-123a-4883-cfc7-d0aec14133bd"
      },
      "source": [
        "import torch\n",
        "import torch.nn as nn\n",
        "import torch.nn.functional as F\n",
        "import torch.optim as optim\n",
        "from torch.utils.data import Dataset, DataLoader\n",
        "print(torch.__version__)"
      ],
      "execution_count": 7,
      "outputs": [
        {
          "output_type": "stream",
          "text": [
            "1.4.0\n"
          ],
          "name": "stdout"
        }
      ]
    },
    {
      "cell_type": "code",
      "metadata": {
        "colab_type": "code",
        "id": "M_ukzh8WS_Y5",
        "colab": {}
      },
      "source": [
        "#from radam import RAdam\n",
        "#from lookahead import optimizer"
      ],
      "execution_count": 0,
      "outputs": []
    },
    {
      "cell_type": "code",
      "metadata": {
        "colab_type": "code",
        "id": "JvLdf3pJ67m7",
        "colab": {}
      },
      "source": [
        "from transformers import GPT2Tokenizer, GPT2Model"
      ],
      "execution_count": 0,
      "outputs": []
    },
    {
      "cell_type": "markdown",
      "metadata": {
        "colab_type": "text",
        "id": "rjsqG7Z4VB3f"
      },
      "source": [
        "# Set up the argspace/important_variables"
      ]
    },
    {
      "cell_type": "code",
      "metadata": {
        "colab_type": "code",
        "id": "tcFfJCICTeSK",
        "colab": {}
      },
      "source": [
        "args = Namespace(\n",
        "        #use cuda by default\n",
        "        device = 'cuda' if torch.cuda.is_available() else 'cpu',\n",
        "\n",
        "        #apex\n",
        "        use_apex = False,\n",
        "\n",
        "        #model storage\n",
        "        store_model = True,\n",
        "\n",
        "        #set batch size and number of epochs\n",
        "        batch_size = 32,\n",
        "        num_epochs = 20,\n",
        "    \n",
        "        #set the learning rate\n",
        "        learning_rate = 0.0001,\n",
        ")"
      ],
      "execution_count": 0,
      "outputs": []
    },
    {
      "cell_type": "code",
      "metadata": {
        "colab_type": "code",
        "id": "oSWgKzv8YzGi",
        "colab": {}
      },
      "source": [
        "if not IN_COLAB:\n",
        "    _prefix = '../../'\n",
        "else : #for colab\n",
        "    _prefix = '/content/hasoc_code/'\n",
        "    #location of the train, dev and test csv\n",
        "args.data_tsv = _prefix + 'data/english_dataset/english_dataset.tsv'\n",
        "args.test_tsv = _prefix + 'data/english_dataset/hasoc2019_en_test-2919.tsv'\n",
        "if args.store_model:\n",
        "     #directory to save our models at\n",
        "    args.directory = _prefix+'/models/' \n",
        "    args.model_name = 'gpt2_eng_a.pt'\n",
        "    if not os.path.exists(args.directory):\n",
        "        os.makedirs(args.directory)"
      ],
      "execution_count": 0,
      "outputs": []
    },
    {
      "cell_type": "code",
      "metadata": {
        "colab_type": "code",
        "id": "Xi3534jtUket",
        "colab": {}
      },
      "source": [
        "if args.use_apex:\n",
        "    try:\n",
        "        __import__(apex)\n",
        "    except:\n",
        "        print(\"Installing Nvidia-Apex\")\n",
        "        os.system('export CUDA_HOME=/usr/local/cuda-10.1')\n",
        "        os.system('git clone https://github.com/NVIDIA/apex')\n",
        "        os.system('pip install -v --no-cache-dir --global-option=\"--cpp_ext\" --global-option=\"--cuda_ext\" ./apex')\n",
        "        from apex import amp, optimizers"
      ],
      "execution_count": 0,
      "outputs": []
    },
    {
      "cell_type": "markdown",
      "metadata": {
        "colab_type": "text",
        "id": "UFt_ff9uVgfV"
      },
      "source": [
        "# Load the data tsv for Sub-task A\n",
        "Sub-task A focus on Hate speech and Offensive language identification offered for English, German, Hindi. Sub-task A is coarse-grained binary classification in which participating system are required to classify tweets into two class, namely: Hate and Offensive (HOF) and Non- Hate and offensive (NOT).\n",
        "\n",
        "- (NOT) Non Hate-Offensive - This post does not contain any Hate speech, offensive content.\n",
        "- (HOF) Hate and Offensive - This post contains Hate, offensive, and profane content.\n",
        "\n",
        "In our annotation, we label a post as HOF if it contains any form of non-acceptable language such as hate speech, aggression, profanity otherwise NOT."
      ]
    },
    {
      "cell_type": "markdown",
      "metadata": {
        "colab_type": "text",
        "id": "xLNMib0Kawmg"
      },
      "source": [
        "### Load the train set"
      ]
    },
    {
      "cell_type": "code",
      "metadata": {
        "colab_type": "code",
        "id": "vdNdJuwlVfyT",
        "colab": {}
      },
      "source": [
        "hasoc_data_df = pd.read_csv(args.data_tsv, sep='\\t')\n",
        "hasoc_data_df_task_a = hasoc_data_df[['text','task_1']]\n",
        "hasoc_data_df_task_a.columns.values[1] = 'label'\n",
        "hasoc_data_df_task_a = hasoc_data_df_task_a[hasoc_data_df_task_a.label != 'NONE']\n",
        "del hasoc_data_df #free memory"
      ],
      "execution_count": 0,
      "outputs": []
    },
    {
      "cell_type": "code",
      "metadata": {
        "colab_type": "code",
        "id": "hawbE-56aL5u",
        "colab": {}
      },
      "source": [
        "task_a_label_dict = {'NOT' :0, 'HOF': 1}"
      ],
      "execution_count": 0,
      "outputs": []
    },
    {
      "cell_type": "code",
      "metadata": {
        "colab_type": "code",
        "id": "V2CP-06_Zm8v",
        "colab": {}
      },
      "source": [
        "hasoc_data_df_task_a.label = hasoc_data_df_task_a.label.map(task_a_label_dict)"
      ],
      "execution_count": 0,
      "outputs": []
    },
    {
      "cell_type": "markdown",
      "metadata": {
        "colab_type": "text",
        "id": "t8KxsUVSbXKw"
      },
      "source": [
        "### Train set Samples"
      ]
    },
    {
      "cell_type": "code",
      "metadata": {
        "colab_type": "code",
        "id": "8LYlFEX9aCmJ",
        "colab": {
          "base_uri": "https://localhost:8080/",
          "height": 201
        },
        "outputId": "121414b7-0363-4011-e4cf-bd15be45feb3"
      },
      "source": [
        "hasoc_data_df_task_a.sample(5)"
      ],
      "execution_count": 16,
      "outputs": [
        {
          "output_type": "execute_result",
          "data": {
            "text/html": [
              "<div>\n",
              "<style scoped>\n",
              "    .dataframe tbody tr th:only-of-type {\n",
              "        vertical-align: middle;\n",
              "    }\n",
              "\n",
              "    .dataframe tbody tr th {\n",
              "        vertical-align: top;\n",
              "    }\n",
              "\n",
              "    .dataframe thead th {\n",
              "        text-align: right;\n",
              "    }\n",
              "</style>\n",
              "<table border=\"1\" class=\"dataframe\">\n",
              "  <thead>\n",
              "    <tr style=\"text-align: right;\">\n",
              "      <th></th>\n",
              "      <th>text</th>\n",
              "      <th>label</th>\n",
              "    </tr>\n",
              "  </thead>\n",
              "  <tbody>\n",
              "    <tr>\n",
              "      <th>3286</th>\n",
              "      <td>#Assange is not a #rapist  https://t.co/M4sfW7...</td>\n",
              "      <td>0</td>\n",
              "    </tr>\n",
              "    <tr>\n",
              "      <th>2876</th>\n",
              "      <td>#GandiNaaliAbuse | Where an MP says that he wi...</td>\n",
              "      <td>1</td>\n",
              "    </tr>\n",
              "    <tr>\n",
              "      <th>2996</th>\n",
              "      <td>Candle light silent protest in MYSORE, by Myso...</td>\n",
              "      <td>0</td>\n",
              "    </tr>\n",
              "    <tr>\n",
              "      <th>23</th>\n",
              "      <td>#ShameOnICC  1. ICC on Dhoni's gloves         ...</td>\n",
              "      <td>1</td>\n",
              "    </tr>\n",
              "    <tr>\n",
              "      <th>1074</th>\n",
              "      <td>#ICC ...look at pak team...wht is going on.......</td>\n",
              "      <td>0</td>\n",
              "    </tr>\n",
              "  </tbody>\n",
              "</table>\n",
              "</div>"
            ],
            "text/plain": [
              "                                                   text  label\n",
              "3286  #Assange is not a #rapist  https://t.co/M4sfW7...      0\n",
              "2876  #GandiNaaliAbuse | Where an MP says that he wi...      1\n",
              "2996  Candle light silent protest in MYSORE, by Myso...      0\n",
              "23    #ShameOnICC  1. ICC on Dhoni's gloves         ...      1\n",
              "1074  #ICC ...look at pak team...wht is going on.......      0"
            ]
          },
          "metadata": {
            "tags": []
          },
          "execution_count": 16
        }
      ]
    },
    {
      "cell_type": "code",
      "metadata": {
        "colab_type": "code",
        "id": "iP6lRcHfabEh",
        "colab": {
          "base_uri": "https://localhost:8080/",
          "height": 327
        },
        "outputId": "e50ce047-3f3a-4b7a-a16c-82d7b5ccae69"
      },
      "source": [
        "print(hasoc_data_df_task_a.label.value_counts())\n",
        "hasoc_data_df_task_a.label.value_counts().plot(kind='bar')"
      ],
      "execution_count": 17,
      "outputs": [
        {
          "output_type": "stream",
          "text": [
            "0    3591\n",
            "1    2261\n",
            "Name: label, dtype: int64\n"
          ],
          "name": "stdout"
        },
        {
          "output_type": "execute_result",
          "data": {
            "text/plain": [
              "<matplotlib.axes._subplots.AxesSubplot at 0x7ff6021ec358>"
            ]
          },
          "metadata": {
            "tags": []
          },
          "execution_count": 17
        },
        {
          "output_type": "display_data",
          "data": {
            "image/png": "[encoded data removed]",
            "text/plain": [
              "<Figure size 432x288 with 1 Axes>"
            ]
          },
          "metadata": {
            "tags": []
          }
        }
      ]
    },
    {
      "cell_type": "markdown",
      "metadata": {
        "colab_type": "text",
        "id": "8sSm6p0o3_Cq"
      },
      "source": [
        "### Split dataframe into train and validation"
      ]
    },
    {
      "cell_type": "code",
      "metadata": {
        "colab_type": "code",
        "id": "WKFGEObIpEAv",
        "colab": {}
      },
      "source": [
        "data_df = data_utils.Datasplitter.split_dataframe(hasoc_data_df_task_a, train_frac= 0.9, shuffle=True )"
      ],
      "execution_count": 0,
      "outputs": []
    },
    {
      "cell_type": "code",
      "metadata": {
        "colab_type": "code",
        "id": "bs_phT5RqeeN",
        "colab": {
          "base_uri": "https://localhost:8080/",
          "height": 82
        },
        "outputId": "34716938-1a30-4d1f-c1e0-1b68899b5287"
      },
      "source": [
        "print(data_df.split.value_counts())\n",
        "sum(data_df.label.value_counts()) == \\\n",
        "sum(data_df[data_df.split == 'train'].label.value_counts())\\\n",
        " + sum(data_df[data_df.split == 'val'].label.value_counts())"
      ],
      "execution_count": 19,
      "outputs": [
        {
          "output_type": "stream",
          "text": [
            "train    5267\n",
            "val       585\n",
            "Name: split, dtype: int64\n"
          ],
          "name": "stdout"
        },
        {
          "output_type": "execute_result",
          "data": {
            "text/plain": [
              "True"
            ]
          },
          "metadata": {
            "tags": []
          },
          "execution_count": 19
        }
      ]
    },
    {
      "cell_type": "code",
      "metadata": {
        "colab_type": "code",
        "id": "20Gwn6WizDaB",
        "colab": {
          "base_uri": "https://localhost:8080/",
          "height": 65
        },
        "outputId": "8266d93f-71f4-452d-c2c0-5ff5e1aac48b"
      },
      "source": [
        "hasoc_data_df_task_a.label.value_counts()"
      ],
      "execution_count": 21,
      "outputs": [
        {
          "output_type": "execute_result",
          "data": {
            "text/plain": [
              "0    3591\n",
              "1    2261\n",
              "Name: label, dtype: int64"
            ]
          },
          "metadata": {
            "tags": []
          },
          "execution_count": 21
        }
      ]
    },
    {
      "cell_type": "markdown",
      "metadata": {
        "id": "w-WcKtmNnirk",
        "colab_type": "text"
      },
      "source": [
        "### One-Class Classification using SVM"
      ]
    },
    {
      "cell_type": "code",
      "metadata": {
        "id": "vA0c2QOXneTA",
        "colab_type": "code",
        "colab": {}
      },
      "source": [
        "from sklearn.svm import OneClassSVM\n",
        "from sklearn.feature_extraction.text import TfidfVectorizer\n",
        "from sklearn.metrics import classification_report\n",
        "import sklearn.metrics"
      ],
      "execution_count": 0,
      "outputs": []
    },
    {
      "cell_type": "markdown",
      "metadata": {
        "id": "QIpp4ofevDLL",
        "colab_type": "text"
      },
      "source": [
        "### Creating TFIDF vectorizer"
      ]
    },
    {
      "cell_type": "code",
      "metadata": {
        "id": "4_O79GZrnsmo",
        "colab_type": "code",
        "colab": {}
      },
      "source": [
        "hate_text_df =\\\n",
        " data_df[ (data_df.split == 'train') & (data_df.label == task_a_label_dict['HOF']) ]\n"
      ],
      "execution_count": 0,
      "outputs": []
    },
    {
      "cell_type": "code",
      "metadata": {
        "id": "KQtDPDagrvNE",
        "colab_type": "code",
        "colab": {
          "base_uri": "https://localhost:8080/",
          "height": 411
        },
        "outputId": "fe29d0da-048a-4919-d90b-35f8cda85d39"
      },
      "source": [
        "hate_text_df"
      ],
      "execution_count": 25,
      "outputs": [
        {
          "output_type": "execute_result",
          "data": {
            "text/html": [
              "<div>\n",
              "<style scoped>\n",
              "    .dataframe tbody tr th:only-of-type {\n",
              "        vertical-align: middle;\n",
              "    }\n",
              "\n",
              "    .dataframe tbody tr th {\n",
              "        vertical-align: top;\n",
              "    }\n",
              "\n",
              "    .dataframe thead th {\n",
              "        text-align: right;\n",
              "    }\n",
              "</style>\n",
              "<table border=\"1\" class=\"dataframe\">\n",
              "  <thead>\n",
              "    <tr style=\"text-align: right;\">\n",
              "      <th></th>\n",
              "      <th>text</th>\n",
              "      <th>label</th>\n",
              "      <th>split</th>\n",
              "    </tr>\n",
              "  </thead>\n",
              "  <tbody>\n",
              "    <tr>\n",
              "      <th>1539</th>\n",
              "      <td>@realDonaldTrump … says the guy who was instal...</td>\n",
              "      <td>1</td>\n",
              "      <td>train</td>\n",
              "    </tr>\n",
              "    <tr>\n",
              "      <th>1116</th>\n",
              "      <td>He said it again, No Collusion, No obstruction...</td>\n",
              "      <td>1</td>\n",
              "      <td>train</td>\n",
              "    </tr>\n",
              "    <tr>\n",
              "      <th>5768</th>\n",
              "      <td>@DonaldJTrumpJr This is rich coming from a dou...</td>\n",
              "      <td>1</td>\n",
              "      <td>train</td>\n",
              "    </tr>\n",
              "    <tr>\n",
              "      <th>4036</th>\n",
              "      <td>@AJEnglish Why spend tax $$ for feeding lodgin...</td>\n",
              "      <td>1</td>\n",
              "      <td>train</td>\n",
              "    </tr>\n",
              "    <tr>\n",
              "      <th>5694</th>\n",
              "      <td>#JohnMcCainDay     Happy John McCain day every...</td>\n",
              "      <td>1</td>\n",
              "      <td>train</td>\n",
              "    </tr>\n",
              "    <tr>\n",
              "      <th>...</th>\n",
              "      <td>...</td>\n",
              "      <td>...</td>\n",
              "      <td>...</td>\n",
              "    </tr>\n",
              "    <tr>\n",
              "      <th>2632</th>\n",
              "      <td>Also in #India, #Indian #Sunni #Islamist #poli...</td>\n",
              "      <td>1</td>\n",
              "      <td>train</td>\n",
              "    </tr>\n",
              "    <tr>\n",
              "      <th>5647</th>\n",
              "      <td>@The_OJSimpson32 The only shit I hear is what ...</td>\n",
              "      <td>1</td>\n",
              "      <td>train</td>\n",
              "    </tr>\n",
              "    <tr>\n",
              "      <th>1077</th>\n",
              "      <td>#HappyBirthdayMrPresident?  Nope. GO FUCK YOUR...</td>\n",
              "      <td>1</td>\n",
              "      <td>train</td>\n",
              "    </tr>\n",
              "    <tr>\n",
              "      <th>5689</th>\n",
              "      <td>#Army     What is this.... Where was ICC then....</td>\n",
              "      <td>1</td>\n",
              "      <td>train</td>\n",
              "    </tr>\n",
              "    <tr>\n",
              "      <th>4631</th>\n",
              "      <td>@Flagsareburning @realDonaldTrump He continues...</td>\n",
              "      <td>1</td>\n",
              "      <td>train</td>\n",
              "    </tr>\n",
              "  </tbody>\n",
              "</table>\n",
              "<p>2035 rows × 3 columns</p>\n",
              "</div>"
            ],
            "text/plain": [
              "                                                   text  label  split\n",
              "1539  @realDonaldTrump … says the guy who was instal...      1  train\n",
              "1116  He said it again, No Collusion, No obstruction...      1  train\n",
              "5768  @DonaldJTrumpJr This is rich coming from a dou...      1  train\n",
              "4036  @AJEnglish Why spend tax $$ for feeding lodgin...      1  train\n",
              "5694  #JohnMcCainDay     Happy John McCain day every...      1  train\n",
              "...                                                 ...    ...    ...\n",
              "2632  Also in #India, #Indian #Sunni #Islamist #poli...      1  train\n",
              "5647  @The_OJSimpson32 The only shit I hear is what ...      1  train\n",
              "1077  #HappyBirthdayMrPresident?  Nope. GO FUCK YOUR...      1  train\n",
              "5689  #Army     What is this.... Where was ICC then....      1  train\n",
              "4631  @Flagsareburning @realDonaldTrump He continues...      1  train\n",
              "\n",
              "[2035 rows x 3 columns]"
            ]
          },
          "metadata": {
            "tags": []
          },
          "execution_count": 25
        }
      ]
    },
    {
      "cell_type": "code",
      "metadata": {
        "id": "vDDXuThYrwVC",
        "colab_type": "code",
        "colab": {}
      },
      "source": [
        "tfidf_vectorizer = TfidfVectorizer(ngram_range=(4,4))"
      ],
      "execution_count": 0,
      "outputs": []
    },
    {
      "cell_type": "code",
      "metadata": {
        "id": "r_nMaGKLtY2c",
        "colab_type": "code",
        "colab": {}
      },
      "source": [
        "hate_tfidf = tfidf_vectorizer.fit_transform(hate_text_df.text)"
      ],
      "execution_count": 0,
      "outputs": []
    },
    {
      "cell_type": "markdown",
      "metadata": {
        "id": "nHelkYqIwCcM",
        "colab_type": "text"
      },
      "source": [
        "### Training OneClass SVM"
      ]
    },
    {
      "cell_type": "code",
      "metadata": {
        "id": "PTU9yxmiwBmY",
        "colab_type": "code",
        "colab": {}
      },
      "source": [
        "clf = OneClassSVM(gamma='auto').fit(hate_tfidf)"
      ],
      "execution_count": 0,
      "outputs": []
    },
    {
      "cell_type": "code",
      "metadata": {
        "id": "EFUQ8HJgvLBa",
        "colab_type": "code",
        "colab": {}
      },
      "source": [
        "preds = clf.predict(hate_tfidf)"
      ],
      "execution_count": 0,
      "outputs": []
    },
    {
      "cell_type": "code",
      "metadata": {
        "id": "EqwLCVSOwrt0",
        "colab_type": "code",
        "colab": {
          "base_uri": "https://localhost:8080/",
          "height": 32
        },
        "outputId": "d82e14c9-06c8-422f-8b1c-b4c1e834fc05"
      },
      "source": [
        "# preds[preds == -1] = 0\n",
        "collections.Counter(preds)"
      ],
      "execution_count": 50,
      "outputs": [
        {
          "output_type": "execute_result",
          "data": {
            "text/plain": [
              "Counter({-1: 987, 1: 1048})"
            ]
          },
          "metadata": {
            "tags": []
          },
          "execution_count": 50
        }
      ]
    },
    {
      "cell_type": "code",
      "metadata": {
        "id": "0nvvJrsbxmts",
        "colab_type": "code",
        "colab": {
          "base_uri": "https://localhost:8080/",
          "height": 217
        },
        "outputId": "0cd4e8bd-f65a-4def-f0ba-61aedc157cba"
      },
      "source": [
        "print(\n",
        "    classification_report(\n",
        "            y_true = hate_text_df.label,\n",
        "            y_pred = preds, \n",
        "        )\n",
        "    )"
      ],
      "execution_count": 48,
      "outputs": [
        {
          "output_type": "stream",
          "text": [
            "              precision    recall  f1-score   support\n",
            "\n",
            "          -1       0.00      0.00      0.00         0\n",
            "           1       1.00      0.51      0.68      2035\n",
            "\n",
            "    accuracy                           0.51      2035\n",
            "   macro avg       0.50      0.26      0.34      2035\n",
            "weighted avg       1.00      0.51      0.68      2035\n",
            "\n"
          ],
          "name": "stdout"
        },
        {
          "output_type": "stream",
          "text": [
            "/usr/local/lib/python3.6/dist-packages/sklearn/metrics/_classification.py:1272: UndefinedMetricWarning: Recall and F-score are ill-defined and being set to 0.0 in labels with no true samples. Use `zero_division` parameter to control this behavior.\n",
            "  _warn_prf(average, modifier, msg_start, len(result))\n"
          ],
          "name": "stderr"
        }
      ]
    },
    {
      "cell_type": "code",
      "metadata": {
        "id": "VUjo3Fg2yEtu",
        "colab_type": "code",
        "colab": {
          "base_uri": "https://localhost:8080/",
          "height": 32
        },
        "outputId": "9aff6b17-15c3-4d92-830c-4d7d97cc4b27"
      },
      "source": [
        "sklearn.metrics.accuracy_score(\n",
        "    y_true = hate_text_df.label,\n",
        "    y_pred = preds, \n",
        ")"
      ],
      "execution_count": 52,
      "outputs": [
        {
          "output_type": "execute_result",
          "data": {
            "text/plain": [
              "0.514987714987715"
            ]
          },
          "metadata": {
            "tags": []
          },
          "execution_count": 52
        }
      ]
    },
    {
      "cell_type": "code",
      "metadata": {
        "id": "lFoudDH2z7zP",
        "colab_type": "code",
        "colab": {
          "base_uri": "https://localhost:8080/",
          "height": 65,
          "referenced_widgets": [
            "c5d84f5923414aaab16747c1a36734a8",
            "c37d706f713a4420b66b48a59f5acfcd",
            "fedfacc52a734893aabd2ab0f8bfab5f",
            "72e81e5d8fd24e7a83d536b4c1944e16",
            "a6aaa392dca946a49e4efed060e89944",
            "b4aaa61108c14fa792a1c209e46e92bc",
            "89f524ef5b3d4685adf7c4627cfebc99",
            "d16fb81c48ea40f4b03e04732df3963c"
          ]
        },
        "outputId": "fdb3de6c-04a6-4b98-9e41-e4ccb34f3794"
      },
      "source": [
        "ngram_acc = {}\n",
        "for n in notebook.tqdm(range(1,51), total = 50):\n",
        "    tfidf_vectorizer = TfidfVectorizer(ngram_range=(n,n))\n",
        "    hate_tfidf = tfidf_vectorizer.fit_transform(hate_text_df.text)\n",
        "    clf = OneClassSVM(gamma='auto').fit(hate_tfidf)\n",
        "    preds = clf.predict(hate_tfidf)\n",
        "    acc = sklearn.metrics.accuracy_score(\n",
        "        y_true = hate_text_df.label,\n",
        "        y_pred = preds, \n",
        "    )\n",
        "    ngram_acc[n] = acc    "
      ],
      "execution_count": 64,
      "outputs": [
        {
          "output_type": "display_data",
          "data": {
            "application/vnd.jupyter.widget-view+json": {
              "model_id": "c5d84f5923414aaab16747c1a36734a8",
              "version_minor": 0,
              "version_major": 2
            },
            "text/plain": [
              "HBox(children=(IntProgress(value=0, max=50), HTML(value='')))"
            ]
          },
          "metadata": {
            "tags": []
          }
        },
        {
          "output_type": "stream",
          "text": [
            "\n"
          ],
          "name": "stdout"
        }
      ]
    },
    {
      "cell_type": "code",
      "metadata": {
        "id": "ccGzyQ-104zj",
        "colab_type": "code",
        "colab": {
          "base_uri": "https://localhost:8080/",
          "height": 840
        },
        "outputId": "d834f8b3-a443-491d-b09e-3615bcdb8097"
      },
      "source": [
        "ngram_acc"
      ],
      "execution_count": 65,
      "outputs": [
        {
          "output_type": "execute_result",
          "data": {
            "text/plain": [
              "{1: 0.3356265356265356,\n",
              " 2: 0.7503685503685503,\n",
              " 3: 0.605896805896806,\n",
              " 4: 0.514987714987715,\n",
              " 5: 0.5154791154791155,\n",
              " 6: 0.5218673218673219,\n",
              " 7: 0.5316953316953317,\n",
              " 8: 0.5538083538083538,\n",
              " 9: 0.576904176904177,\n",
              " 10: 0.6083538083538084,\n",
              " 11: 0.6245700245700245,\n",
              " 12: 0.655036855036855,\n",
              " 13: 0.682063882063882,\n",
              " 14: 0.7125307125307125,\n",
              " 15: 0.7434889434889435,\n",
              " 16: 0.7764127764127764,\n",
              " 17: 0.8068796068796069,\n",
              " 18: 0.8422604422604423,\n",
              " 19: 0.8737100737100737,\n",
              " 20: 0.9041769041769042,\n",
              " 21: 0.9346437346437346,\n",
              " 22: 0.9695331695331695,\n",
              " 23: 0.9941031941031941,\n",
              " 24: 0.5184275184275184,\n",
              " 25: 0.542997542997543,\n",
              " 26: 0.5641277641277641,\n",
              " 27: 0.0,\n",
              " 28: 0.0,\n",
              " 29: 0.0,\n",
              " 30: 0.657985257985258,\n",
              " 31: 0.6800982800982801,\n",
              " 32: 0.0,\n",
              " 33: 0.7100737100737101,\n",
              " 34: 0.7253071253071253,\n",
              " 35: 0.7493857493857494,\n",
              " 36: 0.7695331695331695,\n",
              " 37: 0.7877149877149877,\n",
              " 38: 0.0,\n",
              " 39: 0.831941031941032,\n",
              " 40: 0.0,\n",
              " 41: 0.85995085995086,\n",
              " 42: 0.8781326781326781,\n",
              " 43: 0.0,\n",
              " 44: 0.9081081081081082,\n",
              " 45: 0.0,\n",
              " 46: 0.0,\n",
              " 47: 0.9523341523341523,\n",
              " 48: 0.0,\n",
              " 49: 0.0,\n",
              " 50: 0.9808353808353808}"
            ]
          },
          "metadata": {
            "tags": []
          },
          "execution_count": 65
        }
      ]
    },
    {
      "cell_type": "code",
      "metadata": {
        "id": "MaJtcB2l0-ON",
        "colab_type": "code",
        "colab": {}
      },
      "source": [
        ""
      ],
      "execution_count": 0,
      "outputs": []
    }
  ]
}