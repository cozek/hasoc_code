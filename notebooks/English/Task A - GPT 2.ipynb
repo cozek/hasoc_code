{
  "nbformat": 4,
  "nbformat_minor": 0,
  "metadata": {
    "kernelspec": {
      "name": "python3",
      "display_name": "Python 3"
    },
    "language_info": {
      "codemirror_mode": {
        "name": "ipython",
        "version": 3
      },
      "file_extension": ".py",
      "mimetype": "text/x-python",
      "name": "python",
      "nbconvert_exporter": "python",
      "pygments_lexer": "ipython3",
      "version": "3.7.0"
    },
    "colab": {
      "name": "Task A - GPT 2.ipynb",
      "provenance": []
    },
    "accelerator": "GPU"
  },
  "cells": [
    {
      "cell_type": "markdown",
      "metadata": {
        "id": "njzRjFbiQYlu",
        "colab_type": "text"
      },
      "source": [
        "[![Open In Colab](https://colab.research.google.com/assets/colab-badge.svg)](https://colab.research.google.com/github/cozek/hasoc_code/blob/master/notebooks/English/Task%20A%20-%20GPT%202.ipynb)"
      ]
    },
    {
      "cell_type": "markdown",
      "metadata": {
        "id": "nF2qyeioUpoh",
        "colab_type": "text"
      },
      "source": [
        "# Clone the repo"
      ]
    },
    {
      "cell_type": "code",
      "metadata": {
        "id": "qw7CyHbUQVsr",
        "colab_type": "code",
        "colab": {
          "base_uri": "https://localhost:8080/",
          "height": 238
        },
        "outputId": "1b3ac7df-7eec-4eea-f636-564b8a59d62a"
      },
      "source": [
        "!git clone --recurse-submodules https://github.com/cozek/hasoc_code"
      ],
      "execution_count": 8,
      "outputs": [
        {
          "output_type": "stream",
          "text": [
            "Cloning into 'hasoc_code'...\n",
            "remote: Enumerating objects: 59, done.\u001b[K\n",
            "remote: Counting objects:   1% (1/59)\u001b[K\rremote: Counting objects:   3% (2/59)\u001b[K\rremote: Counting objects:   5% (3/59)\u001b[K\rremote: Counting objects:   6% (4/59)\u001b[K\rremote: Counting objects:   8% (5/59)\u001b[K\rremote: Counting objects:  10% (6/59)\u001b[K\rremote: Counting objects:  11% (7/59)\u001b[K\rremote: Counting objects:  13% (8/59)\u001b[K\rremote: Counting objects:  15% (9/59)\u001b[K\rremote: Counting objects:  16% (10/59)\u001b[K\rremote: Counting objects:  18% (11/59)\u001b[K\rremote: Counting objects:  20% (12/59)\u001b[K\rremote: Counting objects:  22% (13/59)\u001b[K\rremote: Counting objects:  23% (14/59)\u001b[K\rremote: Counting objects:  25% (15/59)\u001b[K\rremote: Counting objects:  27% (16/59)\u001b[K\rremote: Counting objects:  28% (17/59)\u001b[K\rremote: Counting objects:  30% (18/59)\u001b[K\rremote: Counting objects:  32% (19/59)\u001b[K\rremote: Counting objects:  33% (20/59)\u001b[K\rremote: Counting objects:  35% (21/59)\u001b[K\rremote: Counting objects:  37% (22/59)\u001b[K\rremote: Counting objects:  38% (23/59)\u001b[K\rremote: Counting objects:  40% (24/59)\u001b[K\rremote: Counting objects:  42% (25/59)\u001b[K\rremote: Counting objects:  44% (26/59)\u001b[K\rremote: Counting objects:  45% (27/59)\u001b[K\rremote: Counting objects:  47% (28/59)\u001b[K\rremote: Counting objects:  49% (29/59)\u001b[K\rremote: Counting objects:  50% (30/59)\u001b[K\rremote: Counting objects:  52% (31/59)\u001b[K\rremote: Counting objects:  54% (32/59)\u001b[K\rremote: Counting objects:  55% (33/59)\u001b[K\rremote: Counting objects:  57% (34/59)\u001b[K\rremote: Counting objects:  59% (35/59)\u001b[K\rremote: Counting objects:  61% (36/59)\u001b[K\rremote: Counting objects:  62% (37/59)\u001b[K\rremote: Counting objects:  64% (38/59)\u001b[K\rremote: Counting objects:  66% (39/59)\u001b[K\rremote: Counting objects:  67% (40/59)\u001b[K\rremote: Counting objects:  69% (41/59)\u001b[K\rremote: Counting objects:  71% (42/59)\u001b[K\rremote: Counting objects:  72% (43/59)\u001b[K\rremote: Counting objects:  74% (44/59)\u001b[K\rremote: Counting objects:  76% (45/59)\u001b[K\rremote: Counting objects:  77% (46/59)\u001b[K\rremote: Counting objects:  79% (47/59)\u001b[K\rremote: Counting objects:  81% (48/59)\u001b[K\rremote: Counting objects:  83% (49/59)\u001b[K\rremote: Counting objects:  84% (50/59)\u001b[K\rremote: Counting objects:  86% (51/59)\u001b[K\rremote: Counting objects:  88% (52/59)\u001b[K\rremote: Counting objects:  89% (53/59)\u001b[K\rremote: Counting objects:  91% (54/59)\u001b[K\rremote: Counting objects:  93% (55/59)\u001b[K\rremote: Counting objects:  94% (56/59)\u001b[K\rremote: Counting objects:  96% (57/59)\u001b[K\rremote: Counting objects:  98% (58/59)\u001b[K\rremote: Counting objects: 100% (59/59)\u001b[K\rremote: Counting objects: 100% (59/59), done.\u001b[K\n",
            "remote: Compressing objects:   2% (1/44)\u001b[K\rremote: Compressing objects:   4% (2/44)\u001b[K\rremote: Compressing objects:   6% (3/44)\u001b[K\rremote: Compressing objects:   9% (4/44)\u001b[K\rremote: Compressing objects:  11% (5/44)\u001b[K\rremote: Compressing objects:  13% (6/44)\u001b[K\rremote: Compressing objects:  15% (7/44)\u001b[K\rremote: Compressing objects:  18% (8/44)\u001b[K\rremote: Compressing objects:  20% (9/44)\u001b[K\rremote: Compressing objects:  22% (10/44)\u001b[K\rremote: Compressing objects:  25% (11/44)\u001b[K\rremote: Compressing objects:  27% (12/44)\u001b[K\rremote: Compressing objects:  29% (13/44)\u001b[K\rremote: Compressing objects:  31% (14/44)\u001b[K\rremote: Compressing objects:  34% (15/44)\u001b[K\rremote: Compressing objects:  36% (16/44)\u001b[K\rremote: Compressing objects:  38% (17/44)\u001b[K\rremote: Compressing objects:  40% (18/44)\u001b[K\rremote: Compressing objects:  43% (19/44)\u001b[K\rremote: Compressing objects:  45% (20/44)\u001b[K\rremote: Compressing objects:  47% (21/44)\u001b[K\rremote: Compressing objects:  50% (22/44)\u001b[K\rremote: Compressing objects:  52% (23/44)\u001b[K\rremote: Compressing objects:  54% (24/44)\u001b[K\rremote: Compressing objects:  56% (25/44)\u001b[K\rremote: Compressing objects:  59% (26/44)\u001b[K\rremote: Compressing objects:  61% (27/44)\u001b[K\rremote: Compressing objects:  63% (28/44)\u001b[K\rremote: Compressing objects:  65% (29/44)\u001b[K\rremote: Compressing objects:  68% (30/44)\u001b[K\rremote: Compressing objects:  70% (31/44)\u001b[K\rremote: Compressing objects:  72% (32/44)\u001b[K\rremote: Compressing objects:  75% (33/44)\u001b[K\rremote: Compressing objects:  77% (34/44)\u001b[K\rremote: Compressing objects:  79% (35/44)\u001b[K\rremote: Compressing objects:  81% (36/44)\u001b[K\rremote: Compressing objects:  84% (37/44)\u001b[K\rremote: Compressing objects:  86% (38/44)\u001b[K\rremote: Compressing objects:  88% (39/44)\u001b[K\rremote: Compressing objects:  90% (40/44)\u001b[K\rremote: Compressing objects:  93% (41/44)\u001b[K\rremote: Compressing objects:  95% (42/44)\u001b[K\rremote: Compressing objects:  97% (43/44)\u001b[K\rremote: Compressing objects: 100% (44/44)\u001b[K\rremote: Compressing objects: 100% (44/44), done.\u001b[K\n",
            "Unpacking objects:   1% (1/59)   \rUnpacking objects:   3% (2/59)   \rUnpacking objects:   5% (3/59)   \rUnpacking objects:   6% (4/59)   \rUnpacking objects:   8% (5/59)   \rUnpacking objects:  10% (6/59)   \rUnpacking objects:  11% (7/59)   \rUnpacking objects:  13% (8/59)   \rUnpacking objects:  15% (9/59)   \rUnpacking objects:  16% (10/59)   \rUnpacking objects:  18% (11/59)   \rUnpacking objects:  20% (12/59)   \rUnpacking objects:  22% (13/59)   \rUnpacking objects:  23% (14/59)   \rUnpacking objects:  25% (15/59)   \rUnpacking objects:  27% (16/59)   \rUnpacking objects:  28% (17/59)   \rremote: Total 59 (delta 11), reused 46 (delta 7), pack-reused 0\u001b[K\n",
            "Unpacking objects:  30% (18/59)   \rUnpacking objects:  32% (19/59)   \rUnpacking objects:  33% (20/59)   \rUnpacking objects:  35% (21/59)   \rUnpacking objects:  37% (22/59)   \rUnpacking objects:  38% (23/59)   \rUnpacking objects:  40% (24/59)   \rUnpacking objects:  42% (25/59)   \rUnpacking objects:  44% (26/59)   \rUnpacking objects:  45% (27/59)   \rUnpacking objects:  47% (28/59)   \rUnpacking objects:  49% (29/59)   \rUnpacking objects:  50% (30/59)   \rUnpacking objects:  52% (31/59)   \rUnpacking objects:  54% (32/59)   \rUnpacking objects:  55% (33/59)   \rUnpacking objects:  57% (34/59)   \rUnpacking objects:  59% (35/59)   \rUnpacking objects:  61% (36/59)   \rUnpacking objects:  62% (37/59)   \rUnpacking objects:  64% (38/59)   \rUnpacking objects:  66% (39/59)   \rUnpacking objects:  67% (40/59)   \rUnpacking objects:  69% (41/59)   \rUnpacking objects:  71% (42/59)   \rUnpacking objects:  72% (43/59)   \rUnpacking objects:  74% (44/59)   \rUnpacking objects:  76% (45/59)   \rUnpacking objects:  77% (46/59)   \rUnpacking objects:  79% (47/59)   \rUnpacking objects:  81% (48/59)   \rUnpacking objects:  83% (49/59)   \rUnpacking objects:  84% (50/59)   \rUnpacking objects:  86% (51/59)   \rUnpacking objects:  88% (52/59)   \rUnpacking objects:  89% (53/59)   \rUnpacking objects:  91% (54/59)   \rUnpacking objects:  93% (55/59)   \rUnpacking objects:  94% (56/59)   \rUnpacking objects:  96% (57/59)   \rUnpacking objects:  98% (58/59)   \rUnpacking objects: 100% (59/59)   \rUnpacking objects: 100% (59/59), done.\n",
            "Submodule 'src/lookahead' (https://github.com/lonePatient/lookahead_pytorch) registered for path 'src/lookahead'\n",
            "Cloning into '/content/hasoc_code/src/lookahead'...\n",
            "remote: Enumerating objects: 68, done.        \n",
            "remote: Counting objects: 100% (68/68), done.        \n",
            "remote: Compressing objects: 100% (62/62), done.        \n",
            "remote: Total 68 (delta 31), reused 11 (delta 5), pack-reused 0        \n",
            "Submodule path 'src/lookahead': checked out '1055128057408fe8533ffa30654551a317f07f0a'\n"
          ],
          "name": "stdout"
        }
      ]
    },
    {
      "cell_type": "markdown",
      "metadata": {
        "id": "uZwwEsY_UuZ6",
        "colab_type": "text"
      },
      "source": [
        "# Import libraries"
      ]
    },
    {
      "cell_type": "code",
      "metadata": {
        "id": "aE7jfIRqUTtn",
        "colab_type": "code",
        "colab": {}
      },
      "source": [
        "import collections\n",
        "from typing import Callable\n",
        "import numpy as np\n",
        "import pandas as pd\n",
        "from tqdm import notebook\n",
        "import importlib\n",
        "import pprint\n",
        "import nltk\n",
        "import datetime\n",
        "import os\n",
        "from argparse import Namespace\n",
        "import re\n",
        "from collections import Counter"
      ],
      "execution_count": 0,
      "outputs": []
    },
    {
      "cell_type": "code",
      "metadata": {
        "id": "gXqXhgjIUy-U",
        "colab_type": "code",
        "colab": {}
      },
      "source": [
        "import sys\n",
        "#add the path to the src folder\n",
        "sys.path.append('/content/hasoc_code/src')"
      ],
      "execution_count": 0,
      "outputs": []
    },
    {
      "cell_type": "code",
      "metadata": {
        "id": "r_rDeBsOUXKi",
        "colab_type": "code",
        "colab": {}
      },
      "source": [
        "import utils.general as general_utils\n",
        "import utils.transformer.data as transformer_data_utils\n",
        "import utils.transformer.general as transformer_general_utils\n",
        "general_utils.set_seed_everywhere() #set the seed for reproducibility"
      ],
      "execution_count": 0,
      "outputs": []
    },
    {
      "cell_type": "code",
      "metadata": {
        "id": "3UfRWC0qUb-a",
        "colab_type": "code",
        "colab": {
          "base_uri": "https://localhost:8080/",
          "height": 34
        },
        "outputId": "a66c74f5-a800-4e04-91da-7e2814203a74"
      },
      "source": [
        "import torch\n",
        "import torch.nn as nn\n",
        "import torch.nn.functional as F\n",
        "import torch.optim as optim\n",
        "from torch.utils.data import Dataset, DataLoader\n",
        "print(torch.__version__)"
      ],
      "execution_count": 34,
      "outputs": [
        {
          "output_type": "stream",
          "text": [
            "1.4.0\n"
          ],
          "name": "stdout"
        }
      ]
    },
    {
      "cell_type": "code",
      "metadata": {
        "id": "M_ukzh8WS_Y5",
        "colab_type": "code",
        "colab": {}
      },
      "source": [
        "from radam import RAdam\n",
        "from lookahead import optimizer"
      ],
      "execution_count": 0,
      "outputs": []
    },
    {
      "cell_type": "markdown",
      "metadata": {
        "id": "rjsqG7Z4VB3f",
        "colab_type": "text"
      },
      "source": [
        "# Set up the argspace/important_variables"
      ]
    },
    {
      "cell_type": "code",
      "metadata": {
        "id": "tcFfJCICTeSK",
        "colab_type": "code",
        "colab": {}
      },
      "source": [
        "args = Namespace(\n",
        "        #use cuda by default\n",
        "        device = 'cuda' if torch.cuda.is_available() else 'cpu',\n",
        "    \n",
        "        #set batch size and number of epochs\n",
        "        batch_size = 32,\n",
        "        num_epochs = 20,\n",
        "    \n",
        "        #set the learning rate\n",
        "        learning_rate = 0.0001,\n",
        ")"
      ],
      "execution_count": 0,
      "outputs": []
    },
    {
      "cell_type": "code",
      "metadata": {
        "id": "22kr0FhCX1Wo",
        "colab_type": "code",
        "colab": {
          "base_uri": "https://localhost:8080/",
          "height": 51
        },
        "outputId": "68317c39-cf10-4597-afc6-8fc0543aef89"
      },
      "source": [
        "print('[c]olab or [l]ocal?[c/l] (Default: colab) ')\n",
        "loc = input()\n",
        "loc = loc.lower()\n",
        "assert loc in ['c','colab','local','l']"
      ],
      "execution_count": 27,
      "outputs": [
        {
          "output_type": "stream",
          "text": [
            "[c]olab or [l]ocal?[c/l] (Default: colab) \n",
            "c\n"
          ],
          "name": "stdout"
        }
      ]
    },
    {
      "cell_type": "code",
      "metadata": {
        "id": "oSWgKzv8YzGi",
        "colab_type": "code",
        "colab": {}
      },
      "source": [
        "if loc in ['l','local']:\n",
        "    pass\n",
        "else : #for colab\n",
        "    #location of the train, dev and test csv\n",
        "    args.data_tsv = '/content/hasoc_code/data/english_dataset/english_dataset.tsv'\n",
        "    args.test_tsv = '/content/hasoc_code/data/english_dataset/hasoc2019_en_test-2919.tsv'\n",
        "\n",
        "    #directory to save our models at\n",
        "    args.directory = '/content/models/' \n",
        "    args.model_name = 'gpt2_eng_a.pt'"
      ],
      "execution_count": 0,
      "outputs": []
    },
    {
      "cell_type": "markdown",
      "metadata": {
        "id": "UFt_ff9uVgfV",
        "colab_type": "text"
      },
      "source": [
        "# Load the data tsv for Sub-task A\n",
        "Sub-task A focus on Hate speech and Offensive language identification offered for English, German, Hindi. Sub-task A is coarse-grained binary classification in which participating system are required to classify tweets into two class, namely: Hate and Offensive (HOF) and Non- Hate and offensive (NOT).\n",
        "\n",
        "- (NOT) Non Hate-Offensive - This post does not contain any Hate speech, offensive content.\n",
        "- (HOF) Hate and Offensive - This post contains Hate, offensive, and profane content.\n",
        "\n",
        "In our annotation, we label a post as HOF if it contains any form of non-acceptable language such as hate speech, aggression, profanity otherwise NOT."
      ]
    },
    {
      "cell_type": "markdown",
      "metadata": {
        "id": "xLNMib0Kawmg",
        "colab_type": "text"
      },
      "source": [
        "### Load the train set"
      ]
    },
    {
      "cell_type": "code",
      "metadata": {
        "id": "vdNdJuwlVfyT",
        "colab_type": "code",
        "colab": {}
      },
      "source": [
        "hasoc_data_df = pd.read_csv(args.data_tsv, sep='\\t')\n",
        "hasoc_data_df_task_a = hasoc_data_df[['text','task_1']]\n",
        "hasoc_data_df_task_a.columns.values[1] = 'label'\n",
        "hasoc_data_df_task_a = hasoc_data_df_task_a[hasoc_data_df_task_a.label != 'NONE']\n",
        "del hasoc_data_df #free memory"
      ],
      "execution_count": 0,
      "outputs": []
    },
    {
      "cell_type": "code",
      "metadata": {
        "id": "hawbE-56aL5u",
        "colab_type": "code",
        "colab": {}
      },
      "source": [
        "task_a_label_dict = {'NOT' :0, 'HOF': 1}"
      ],
      "execution_count": 0,
      "outputs": []
    },
    {
      "cell_type": "code",
      "metadata": {
        "id": "V2CP-06_Zm8v",
        "colab_type": "code",
        "colab": {}
      },
      "source": [
        "hasoc_data_df_task_a.label = hasoc_data_df_task_a.label.map(task_a_label_dict)"
      ],
      "execution_count": 0,
      "outputs": []
    },
    {
      "cell_type": "markdown",
      "metadata": {
        "id": "t8KxsUVSbXKw",
        "colab_type": "text"
      },
      "source": [
        "### Samples"
      ]
    },
    {
      "cell_type": "code",
      "metadata": {
        "id": "8LYlFEX9aCmJ",
        "colab_type": "code",
        "colab": {
          "base_uri": "https://localhost:8080/",
          "height": 204
        },
        "outputId": "3f8f24a3-15d3-4d02-f22f-9f2d5e423817"
      },
      "source": [
        "hasoc_data_df_task_a.sample(5)"
      ],
      "execution_count": 65,
      "outputs": [
        {
          "output_type": "execute_result",
          "data": {
            "text/html": [
              "<div>\n",
              "<style scoped>\n",
              "    .dataframe tbody tr th:only-of-type {\n",
              "        vertical-align: middle;\n",
              "    }\n",
              "\n",
              "    .dataframe tbody tr th {\n",
              "        vertical-align: top;\n",
              "    }\n",
              "\n",
              "    .dataframe thead th {\n",
              "        text-align: right;\n",
              "    }\n",
              "</style>\n",
              "<table border=\"1\" class=\"dataframe\">\n",
              "  <thead>\n",
              "    <tr style=\"text-align: right;\">\n",
              "      <th></th>\n",
              "      <th>text</th>\n",
              "      <th>label</th>\n",
              "    </tr>\n",
              "  </thead>\n",
              "  <tbody>\n",
              "    <tr>\n",
              "      <th>3286</th>\n",
              "      <td>#Assange is not a #rapist  https://t.co/M4sfW7...</td>\n",
              "      <td>0</td>\n",
              "    </tr>\n",
              "    <tr>\n",
              "      <th>2876</th>\n",
              "      <td>#GandiNaaliAbuse | Where an MP says that he wi...</td>\n",
              "      <td>1</td>\n",
              "    </tr>\n",
              "    <tr>\n",
              "      <th>2996</th>\n",
              "      <td>Candle light silent protest in MYSORE, by Myso...</td>\n",
              "      <td>0</td>\n",
              "    </tr>\n",
              "    <tr>\n",
              "      <th>23</th>\n",
              "      <td>#ShameOnICC  1. ICC on Dhoni's gloves         ...</td>\n",
              "      <td>1</td>\n",
              "    </tr>\n",
              "    <tr>\n",
              "      <th>1074</th>\n",
              "      <td>#ICC ...look at pak team...wht is going on.......</td>\n",
              "      <td>0</td>\n",
              "    </tr>\n",
              "  </tbody>\n",
              "</table>\n",
              "</div>"
            ],
            "text/plain": [
              "                                                   text  label\n",
              "3286  #Assange is not a #rapist  https://t.co/M4sfW7...      0\n",
              "2876  #GandiNaaliAbuse | Where an MP says that he wi...      1\n",
              "2996  Candle light silent protest in MYSORE, by Myso...      0\n",
              "23    #ShameOnICC  1. ICC on Dhoni's gloves         ...      1\n",
              "1074  #ICC ...look at pak team...wht is going on.......      0"
            ]
          },
          "metadata": {
            "tags": []
          },
          "execution_count": 65
        }
      ]
    },
    {
      "cell_type": "code",
      "metadata": {
        "id": "iP6lRcHfabEh",
        "colab_type": "code",
        "colab": {
          "base_uri": "https://localhost:8080/",
          "height": 330
        },
        "outputId": "9fd7821a-4b82-4ee6-b1dd-f32a16b77068"
      },
      "source": [
        "print(hasoc_data_df_task_a.label.value_counts())\n",
        "hasoc_data_df_task_a.label.value_counts().plot(kind='bar')"
      ],
      "execution_count": 70,
      "outputs": [
        {
          "output_type": "stream",
          "text": [
            "0    3591\n",
            "1    2261\n",
            "Name: label, dtype: int64\n"
          ],
          "name": "stdout"
        },
        {
          "output_type": "execute_result",
          "data": {
            "text/plain": [
              "<matplotlib.axes._subplots.AxesSubplot at 0x7f54d7646ba8>"
            ]
          },
          "metadata": {
            "tags": []
          },
          "execution_count": 70
        },
        {
          "output_type": "display_data",
          "data": {
            "image/png": "[encoded data removed]",
            "text/plain": [
              "<Figure size 432x288 with 1 Axes>"
            ]
          },
          "metadata": {
            "tags": []
          }
        }
      ]
    },
    {
      "cell_type": "code",
      "metadata": {
        "id": "50CnxeR3ajWc",
        "colab_type": "code",
        "colab": {}
      },
      "source": [
        ""
      ],
      "execution_count": 0,
      "outputs": []
    }
  ]
}